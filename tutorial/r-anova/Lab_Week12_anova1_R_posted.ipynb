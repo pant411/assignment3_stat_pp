{
 "cells": [
  {
   "cell_type": "code",
   "execution_count": 9,
   "metadata": {},
   "outputs": [],
   "source": [
    "setwd(getwd())   "
   ]
  },
  {
   "cell_type": "code",
   "execution_count": 10,
   "metadata": {},
   "outputs": [],
   "source": [
    "df <- read.csv(\"fabric.csv\", sep=\",\", header=T, fileEncoding=\"UTF-8-BOM\")"
   ]
  },
  {
   "cell_type": "code",
   "execution_count": 11,
   "metadata": {},
   "outputs": [
    {
     "data": {
      "text/html": [
       "<table>\n",
       "<thead><tr><th scope=col>soiling</th><th scope=col>polymer</th></tr></thead>\n",
       "<tbody>\n",
       "\t<tr><td>0.56</td><td>1   </td></tr>\n",
       "\t<tr><td>1.12</td><td>1   </td></tr>\n",
       "\t<tr><td>0.90</td><td>1   </td></tr>\n",
       "\t<tr><td>1.07</td><td>1   </td></tr>\n",
       "\t<tr><td>0.94</td><td>1   </td></tr>\n",
       "\t<tr><td>0.72</td><td>2   </td></tr>\n",
       "\t<tr><td>0.69</td><td>2   </td></tr>\n",
       "\t<tr><td>0.87</td><td>2   </td></tr>\n",
       "\t<tr><td>0.78</td><td>2   </td></tr>\n",
       "\t<tr><td>0.91</td><td>2   </td></tr>\n",
       "\t<tr><td>0.62</td><td>3   </td></tr>\n",
       "\t<tr><td>1.08</td><td>3   </td></tr>\n",
       "\t<tr><td>1.07</td><td>3   </td></tr>\n",
       "\t<tr><td>0.99</td><td>3   </td></tr>\n",
       "\t<tr><td>0.93</td><td>3   </td></tr>\n",
       "</tbody>\n",
       "</table>\n"
      ],
      "text/latex": [
       "\\begin{tabular}{r|ll}\n",
       " soiling & polymer\\\\\n",
       "\\hline\n",
       "\t 0.56 & 1   \\\\\n",
       "\t 1.12 & 1   \\\\\n",
       "\t 0.90 & 1   \\\\\n",
       "\t 1.07 & 1   \\\\\n",
       "\t 0.94 & 1   \\\\\n",
       "\t 0.72 & 2   \\\\\n",
       "\t 0.69 & 2   \\\\\n",
       "\t 0.87 & 2   \\\\\n",
       "\t 0.78 & 2   \\\\\n",
       "\t 0.91 & 2   \\\\\n",
       "\t 0.62 & 3   \\\\\n",
       "\t 1.08 & 3   \\\\\n",
       "\t 1.07 & 3   \\\\\n",
       "\t 0.99 & 3   \\\\\n",
       "\t 0.93 & 3   \\\\\n",
       "\\end{tabular}\n"
      ],
      "text/markdown": [
       "\n",
       "| soiling | polymer |\n",
       "|---|---|\n",
       "| 0.56 | 1    |\n",
       "| 1.12 | 1    |\n",
       "| 0.90 | 1    |\n",
       "| 1.07 | 1    |\n",
       "| 0.94 | 1    |\n",
       "| 0.72 | 2    |\n",
       "| 0.69 | 2    |\n",
       "| 0.87 | 2    |\n",
       "| 0.78 | 2    |\n",
       "| 0.91 | 2    |\n",
       "| 0.62 | 3    |\n",
       "| 1.08 | 3    |\n",
       "| 1.07 | 3    |\n",
       "| 0.99 | 3    |\n",
       "| 0.93 | 3    |\n",
       "\n"
      ],
      "text/plain": [
       "   soiling polymer\n",
       "1  0.56    1      \n",
       "2  1.12    1      \n",
       "3  0.90    1      \n",
       "4  1.07    1      \n",
       "5  0.94    1      \n",
       "6  0.72    2      \n",
       "7  0.69    2      \n",
       "8  0.87    2      \n",
       "9  0.78    2      \n",
       "10 0.91    2      \n",
       "11 0.62    3      \n",
       "12 1.08    3      \n",
       "13 1.07    3      \n",
       "14 0.99    3      \n",
       "15 0.93    3      "
      ]
     },
     "metadata": {},
     "output_type": "display_data"
    }
   ],
   "source": [
    "df"
   ]
  },
  {
   "cell_type": "code",
   "execution_count": 12,
   "metadata": {},
   "outputs": [
    {
     "data": {
      "text/plain": [
       "              Df Sum Sq Mean Sq F value Pr(>F)\n",
       "polymerFactor  2 0.0609 0.03043   0.987  0.401\n",
       "Residuals     12 0.3701 0.03084               "
      ]
     },
     "metadata": {},
     "output_type": "display_data"
    }
   ],
   "source": [
    "polymerFactor <- factor(df$polymer)\n",
    "anovaResult <- aov(df$soiling~polymerFactor, data=df)\n",
    "summary(anovaResult)"
   ]
  },
  {
   "cell_type": "code",
   "execution_count": 13,
   "metadata": {},
   "outputs": [
    {
     "data": {
      "text/html": [
       "6.9266081401913"
      ],
      "text/latex": [
       "6.9266081401913"
      ],
      "text/markdown": [
       "6.9266081401913"
      ],
      "text/plain": [
       "[1] 6.926608"
      ]
     },
     "metadata": {},
     "output_type": "display_data"
    }
   ],
   "source": [
    "qf(0.99, 2, 12)"
   ]
  },
  {
   "cell_type": "code",
   "execution_count": 14,
   "metadata": {},
   "outputs": [
    {
     "data": {
      "text/html": [
       "5.04593430310904"
      ],
      "text/latex": [
       "5.04593430310904"
      ],
      "text/markdown": [
       "5.04593430310904"
      ],
      "text/plain": [
       "[1] 5.045934"
      ]
     },
     "metadata": {},
     "output_type": "display_data"
    }
   ],
   "source": [
    "qtukey(0.01, nmeans=anovaResult$rank, df=anovaResult$df.residual, lower.tail=F)"
   ]
  },
  {
   "cell_type": "code",
   "execution_count": 15,
   "metadata": {},
   "outputs": [
    {
     "data": {
      "image/png": "[encoded data removed]",
      "text/plain": [
       "Plot with title \"99% family-wise confidence level\n",
       "\""
      ]
     },
     "metadata": {},
     "output_type": "display_data"
    }
   ],
   "source": [
    "tk <- TukeyHSD(anovaResult, conf.level = 0.99)\n",
    "plot(tk)"
   ]
  },
  {
   "cell_type": "code",
   "execution_count": 16,
   "metadata": {
    "scrolled": true
   },
   "outputs": [
    {
     "data": {
      "image/png": "[encoded data removed]",
      "text/plain": [
       "plot without title"
      ]
     },
     "metadata": {},
     "output_type": "display_data"
    }
   ],
   "source": [
    "boxplot(df$soiling~df$polymer, horizontal=T, xlab=\"Strength\", ylab=\"Soil\")"
   ]
  },
  {
   "cell_type": "code",
   "execution_count": null,
   "metadata": {},
   "outputs": [],
   "source": []
  }
 ],
 "metadata": {
  "interpreter": {
   "hash": "dfb9b2cec5eb60493425d217d7ce0517700cb161b6c65aea04bc7eded30a03ba"
  },
  "kernelspec": {
   "display_name": "R",
   "language": "R",
   "name": "ir"
  },
  "language_info": {
   "codemirror_mode": "r",
   "file_extension": ".r",
   "mimetype": "text/x-r-source",
   "name": "R",
   "pygments_lexer": "r",
   "version": "3.6.1"
  }
 },
 "nbformat": 4,
 "nbformat_minor": 4
}
