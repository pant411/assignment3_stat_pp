{
 "cells": [
  {
   "cell_type": "code",
   "execution_count": 12,
   "metadata": {},
   "outputs": [],
   "source": [
    "setwd(getwd())   "
   ]
  },
  {
   "cell_type": "code",
   "execution_count": 13,
   "metadata": {},
   "outputs": [
    {
     "data": {
      "text/html": [
       "'Thai_Thailand.874'"
      ],
      "text/latex": [
       "'Thai\\_Thailand.874'"
      ],
      "text/markdown": [
       "'Thai_Thailand.874'"
      ],
      "text/plain": [
       "[1] \"Thai_Thailand.874\""
      ]
     },
     "metadata": {},
     "output_type": "display_data"
    }
   ],
   "source": [
    "Sys.setlocale(\"LC_CTYPE\", \"thai\")\n",
    "options(encoding=\"UTF-8\")"
   ]
  },
  {
   "cell_type": "markdown",
   "metadata": {},
   "source": [
    "## Import Library"
   ]
  },
  {
   "cell_type": "code",
   "execution_count": 14,
   "metadata": {},
   "outputs": [],
   "source": [
    "library(\"readxl\")"
   ]
  },
  {
   "cell_type": "markdown",
   "metadata": {},
   "source": [
    "## Import Data"
   ]
  },
  {
   "cell_type": "code",
   "execution_count": 15,
   "metadata": {},
   "outputs": [
    {
     "name": "stderr",
     "output_type": "stream",
     "text": [
      "The following objects are masked from df_spend (pos = 3):\n",
      "\n",
      "    activity, date, duration, Month, time\n",
      "\n"
     ]
    },
    {
     "data": {
      "text/html": [
       "<table>\n",
       "<thead><tr><th scope=col>date</th><th scope=col>time</th><th scope=col>activity</th><th scope=col>duration</th><th scope=col>Month</th></tr></thead>\n",
       "<tbody>\n",
       "\t<tr><td>2022-01-04      </td><td>13.00 - 17.30   </td><td>เรียนหนังสือ    </td><td>270             </td><td>1               </td></tr>\n",
       "\t<tr><td>2022-01-04      </td><td>19.00 - 19.30   </td><td>รับประทานอาหาร  </td><td> 30             </td><td>1               </td></tr>\n",
       "\t<tr><td>2022-01-04      </td><td>20.00 - 24.00   </td><td>ทำการบ้าน       </td><td>240             </td><td>1               </td></tr>\n",
       "\t<tr><td>2022-01-05      </td><td>09.00 - 12.00   </td><td>เรียนหนังสือ    </td><td>180             </td><td>1               </td></tr>\n",
       "\t<tr><td>2022-01-05      </td><td>12.00 - 13.00   </td><td>พักผ่อน         </td><td> 60             </td><td>1               </td></tr>\n",
       "\t<tr><td>2022-01-05      </td><td>13.00 - 17.30   </td><td>เรียนหนังสือ    </td><td>270             </td><td>1               </td></tr>\n",
       "\t<tr><td>2022-01-05      </td><td>19.00 - 19.30   </td><td>รับประทานอาหาร  </td><td> 30             </td><td>1               </td></tr>\n",
       "\t<tr><td>2022-01-05      </td><td>20.00 - 24.00   </td><td>ทำการบ้าน       </td><td>240             </td><td>1               </td></tr>\n",
       "\t<tr><td>2022-01-06      </td><td>09.00 - 12.00   </td><td>เรียนหนังสือ    </td><td>180             </td><td>1               </td></tr>\n",
       "\t<tr><td>2022-01-06      </td><td>12.00 - 13.00   </td><td>พักผ่อน         </td><td> 60             </td><td>1               </td></tr>\n",
       "\t<tr><td>2022-01-06      </td><td>13.00 - 16.00   </td><td>เรียนหนังสือ    </td><td>180             </td><td>1               </td></tr>\n",
       "\t<tr><td>2022-01-06      </td><td>19.00 - 19.30   </td><td>รับประทานอาหาร  </td><td> 30             </td><td>1               </td></tr>\n",
       "\t<tr><td>2022-01-06      </td><td>20.00 - 24.00   </td><td>ทำการบ้าน       </td><td>240             </td><td>1               </td></tr>\n",
       "\t<tr><td>2022-01-07      </td><td>10.00 - 17.00   </td><td>เล่นอินเทอร์เน็ต</td><td>420             </td><td>1               </td></tr>\n",
       "\t<tr><td>2022-01-07      </td><td>19.00 - 19.30   </td><td>รับประทานอาหาร  </td><td> 30             </td><td>1               </td></tr>\n",
       "\t<tr><td>2022-01-07      </td><td>20.00 - 24.00   </td><td>ทำการบ้าน       </td><td>240             </td><td>1               </td></tr>\n",
       "\t<tr><td>2022-01-08      </td><td>10.00 - 17.00   </td><td>เล่นอินเทอร์เน็ต</td><td>420             </td><td>1               </td></tr>\n",
       "\t<tr><td>2022-01-08      </td><td>19.00 - 19.30   </td><td>รับประทานอาหาร  </td><td> 30             </td><td>1               </td></tr>\n",
       "\t<tr><td>2022-01-08      </td><td>20.00 - 24.00   </td><td>ทำการบ้าน       </td><td>240             </td><td>1               </td></tr>\n",
       "\t<tr><td>2022-01-09      </td><td>10.00 - 16.00   </td><td>เล่นอินเทอร์เน็ต</td><td>360             </td><td>1               </td></tr>\n",
       "\t<tr><td>2022-01-09      </td><td>19.00 - 19.30   </td><td>รับประทานอาหาร  </td><td> 30             </td><td>1               </td></tr>\n",
       "\t<tr><td>2022-01-09      </td><td>20.00 - 24.00   </td><td>ทำการบ้าน       </td><td>240             </td><td>1               </td></tr>\n",
       "\t<tr><td>2022-01-10      </td><td>12.00 - 16.00   </td><td>เรียนหนังสือ    </td><td>240             </td><td>1               </td></tr>\n",
       "\t<tr><td>2022-01-10      </td><td>19.00 - 19.30   </td><td>รับประทานอาหาร  </td><td> 30             </td><td>1               </td></tr>\n",
       "\t<tr><td>2022-01-10      </td><td>20.00 - 24.00   </td><td>ทำการบ้าน       </td><td>240             </td><td>1               </td></tr>\n",
       "\t<tr><td>2022-01-11      </td><td>13.00 - 17.30   </td><td>เรียนหนังสือ    </td><td>270             </td><td>1               </td></tr>\n",
       "\t<tr><td>2022-01-11      </td><td>19.00 - 19.30   </td><td>รับประทานอาหาร  </td><td> 30             </td><td>1               </td></tr>\n",
       "\t<tr><td>2022-01-11      </td><td>20.00 - 24.00   </td><td>ทำการบ้าน       </td><td>240             </td><td>1               </td></tr>\n",
       "\t<tr><td>2022-01-12      </td><td>09.00 - 12.00   </td><td>เรียนหนังสือ    </td><td>180             </td><td>1               </td></tr>\n",
       "\t<tr><td>2022-01-12      </td><td>12.00 - 13.00   </td><td>พักผ่อน         </td><td> 60             </td><td>1               </td></tr>\n",
       "\t<tr><td>...</td><td>...</td><td>...</td><td>...</td><td>...</td></tr>\n",
       "\t<tr><td>2022-02-20             </td><td>20.30 - 21.15          </td><td>รับประทานอาหาร         </td><td> 45                    </td><td>2                      </td></tr>\n",
       "\t<tr><td>2022-02-21             </td><td>12.00 - 16.00          </td><td>เรียนหนังสือ           </td><td>240                    </td><td>2                      </td></tr>\n",
       "\t<tr><td>2022-02-21             </td><td>19.00 - 19.30          </td><td>รับประทานอาหาร         </td><td> 30                    </td><td>2                      </td></tr>\n",
       "\t<tr><td>2022-02-21             </td><td>20.00 - 24.00          </td><td>ทำการบ้าน              </td><td>240                    </td><td>2                      </td></tr>\n",
       "\t<tr><td>2022-02-22             </td><td>13.00 - 17.30          </td><td>เรียนหนังสือ           </td><td>270                    </td><td>2                      </td></tr>\n",
       "\t<tr><td>2022-02-22             </td><td>19.00 - 19.30          </td><td>รับประทานอาหาร         </td><td> 30                    </td><td>2                      </td></tr>\n",
       "\t<tr><td>2022-02-22             </td><td>20.00 - 24.00          </td><td>ทำการบ้าน              </td><td>240                    </td><td>2                      </td></tr>\n",
       "\t<tr><td>2022-02-23             </td><td>09.00 - 12.00          </td><td>เรียนหนังสือ           </td><td>180                    </td><td>2                      </td></tr>\n",
       "\t<tr><td>2022-02-23             </td><td>12.00 - 13.00          </td><td>พักผ่อน                </td><td> 60                    </td><td>2                      </td></tr>\n",
       "\t<tr><td>2022-02-23             </td><td>13.00 - 17.30          </td><td>เรียนหนังสือ           </td><td>270                    </td><td>2                      </td></tr>\n",
       "\t<tr><td>2022-02-23             </td><td>19.00 - 19.30          </td><td>รับประทานอาหาร         </td><td> 30                    </td><td>2                      </td></tr>\n",
       "\t<tr><td>2022-02-23             </td><td>20.00 - 24.00          </td><td>ทำการบ้าน              </td><td>240                    </td><td>2                      </td></tr>\n",
       "\t<tr><td>2022-02-24             </td><td>09.00 - 12.00          </td><td>เรียนหนังสือ           </td><td>180                    </td><td>2                      </td></tr>\n",
       "\t<tr><td>2022-02-24             </td><td>12.00 - 13.00          </td><td>พักผ่อน                </td><td> 60                    </td><td>2                      </td></tr>\n",
       "\t<tr><td>2022-02-24             </td><td>13.00 - 16.00          </td><td>เรียนหนังสือ           </td><td>180                    </td><td>2                      </td></tr>\n",
       "\t<tr><td>2022-02-24             </td><td>19.00 - 19.30          </td><td>รับประทานอาหาร         </td><td> 30                    </td><td>2                      </td></tr>\n",
       "\t<tr><td>2022-02-24             </td><td>20.00 - 24.00          </td><td>ทำการบ้าน              </td><td>240                    </td><td>2                      </td></tr>\n",
       "\t<tr><td>2022-02-25             </td><td>13.00 - 17.00          </td><td>ทำการบ้าน              </td><td>240                    </td><td>2                      </td></tr>\n",
       "\t<tr><td>2022-02-25             </td><td>19.00 - 19.30          </td><td>รับประทานอาหาร         </td><td> 30                    </td><td>2                      </td></tr>\n",
       "\t<tr><td>2022-02-25             </td><td>20.00 - 24.00          </td><td>ทำการบ้าน              </td><td>240                    </td><td>2                      </td></tr>\n",
       "\t<tr><td>2022-02-26             </td><td>12.00 - 14.00          </td><td>ทำการบ้าน              </td><td>120                    </td><td>2                      </td></tr>\n",
       "\t<tr><td>2022-02-26             </td><td>14.00 - 19.30          </td><td>ไปซื้อของที่ห้างแถวบ้าน</td><td>330                    </td><td>2                      </td></tr>\n",
       "\t<tr><td>2022-02-27             </td><td>14.00 - 17.00          </td><td>ทำการบ้าน              </td><td>180                    </td><td>2                      </td></tr>\n",
       "\t<tr><td>2022-02-27             </td><td>17.20 - 19.20          </td><td>ไปซื้อของที่ห้างแถวบ้าน</td><td>120                    </td><td>2                      </td></tr>\n",
       "\t<tr><td>2022-02-27             </td><td>20.00 - 20.45          </td><td>รับประทานอาหาร         </td><td> 45                    </td><td>2                      </td></tr>\n",
       "\t<tr><td>2022-02-27             </td><td>21.30 - 24.00          </td><td>ทำการบ้าน              </td><td>150                    </td><td>2                      </td></tr>\n",
       "\t<tr><td>2022-02-28             </td><td>12.00 - 16.00          </td><td>เรียนหนังสือ           </td><td>240                    </td><td>2                      </td></tr>\n",
       "\t<tr><td>2022-02-28             </td><td>16.00 - 17.30          </td><td>ประชุมงานกลุ่ม         </td><td> 90                    </td><td>2                      </td></tr>\n",
       "\t<tr><td>2022-02-28             </td><td>19.00 - 19.30          </td><td>รับประทานอาหาร         </td><td> 30                    </td><td>2                      </td></tr>\n",
       "\t<tr><td>2022-02-28             </td><td>20.00 - 24.00          </td><td>ทำการบ้าน              </td><td>240                    </td><td>2                      </td></tr>\n",
       "</tbody>\n",
       "</table>\n"
      ],
      "text/latex": [
       "\\begin{tabular}{r|lllll}\n",
       " date & time & activity & duration & Month\\\\\n",
       "\\hline\n",
       "\t 2022-01-04       & 13.00 - 17.30    & เรียนหนังสือ     & 270              & 1               \\\\\n",
       "\t 2022-01-04       & 19.00 - 19.30    & รับประทานอาหาร   &  30              & 1               \\\\\n",
       "\t 2022-01-04       & 20.00 - 24.00    & ทำการบ้าน        & 240              & 1               \\\\\n",
       "\t 2022-01-05       & 09.00 - 12.00    & เรียนหนังสือ     & 180              & 1               \\\\\n",
       "\t 2022-01-05       & 12.00 - 13.00    & พักผ่อน          &  60              & 1               \\\\\n",
       "\t 2022-01-05       & 13.00 - 17.30    & เรียนหนังสือ     & 270              & 1               \\\\\n",
       "\t 2022-01-05       & 19.00 - 19.30    & รับประทานอาหาร   &  30              & 1               \\\\\n",
       "\t 2022-01-05       & 20.00 - 24.00    & ทำการบ้าน        & 240              & 1               \\\\\n",
       "\t 2022-01-06       & 09.00 - 12.00    & เรียนหนังสือ     & 180              & 1               \\\\\n",
       "\t 2022-01-06       & 12.00 - 13.00    & พักผ่อน          &  60              & 1               \\\\\n",
       "\t 2022-01-06       & 13.00 - 16.00    & เรียนหนังสือ     & 180              & 1               \\\\\n",
       "\t 2022-01-06       & 19.00 - 19.30    & รับประทานอาหาร   &  30              & 1               \\\\\n",
       "\t 2022-01-06       & 20.00 - 24.00    & ทำการบ้าน        & 240              & 1               \\\\\n",
       "\t 2022-01-07       & 10.00 - 17.00    & เล่นอินเทอร์เน็ต & 420              & 1               \\\\\n",
       "\t 2022-01-07       & 19.00 - 19.30    & รับประทานอาหาร   &  30              & 1               \\\\\n",
       "\t 2022-01-07       & 20.00 - 24.00    & ทำการบ้าน        & 240              & 1               \\\\\n",
       "\t 2022-01-08       & 10.00 - 17.00    & เล่นอินเทอร์เน็ต & 420              & 1               \\\\\n",
       "\t 2022-01-08       & 19.00 - 19.30    & รับประทานอาหาร   &  30              & 1               \\\\\n",
       "\t 2022-01-08       & 20.00 - 24.00    & ทำการบ้าน        & 240              & 1               \\\\\n",
       "\t 2022-01-09       & 10.00 - 16.00    & เล่นอินเทอร์เน็ต & 360              & 1               \\\\\n",
       "\t 2022-01-09       & 19.00 - 19.30    & รับประทานอาหาร   &  30              & 1               \\\\\n",
       "\t 2022-01-09       & 20.00 - 24.00    & ทำการบ้าน        & 240              & 1               \\\\\n",
       "\t 2022-01-10       & 12.00 - 16.00    & เรียนหนังสือ     & 240              & 1               \\\\\n",
       "\t 2022-01-10       & 19.00 - 19.30    & รับประทานอาหาร   &  30              & 1               \\\\\n",
       "\t 2022-01-10       & 20.00 - 24.00    & ทำการบ้าน        & 240              & 1               \\\\\n",
       "\t 2022-01-11       & 13.00 - 17.30    & เรียนหนังสือ     & 270              & 1               \\\\\n",
       "\t 2022-01-11       & 19.00 - 19.30    & รับประทานอาหาร   &  30              & 1               \\\\\n",
       "\t 2022-01-11       & 20.00 - 24.00    & ทำการบ้าน        & 240              & 1               \\\\\n",
       "\t 2022-01-12       & 09.00 - 12.00    & เรียนหนังสือ     & 180              & 1               \\\\\n",
       "\t 2022-01-12       & 12.00 - 13.00    & พักผ่อน          &  60              & 1               \\\\\n",
       "\t ... & ... & ... & ... & ...\\\\\n",
       "\t 2022-02-20              & 20.30 - 21.15           & รับประทานอาหาร          &  45                     & 2                      \\\\\n",
       "\t 2022-02-21              & 12.00 - 16.00           & เรียนหนังสือ            & 240                     & 2                      \\\\\n",
       "\t 2022-02-21              & 19.00 - 19.30           & รับประทานอาหาร          &  30                     & 2                      \\\\\n",
       "\t 2022-02-21              & 20.00 - 24.00           & ทำการบ้าน               & 240                     & 2                      \\\\\n",
       "\t 2022-02-22              & 13.00 - 17.30           & เรียนหนังสือ            & 270                     & 2                      \\\\\n",
       "\t 2022-02-22              & 19.00 - 19.30           & รับประทานอาหาร          &  30                     & 2                      \\\\\n",
       "\t 2022-02-22              & 20.00 - 24.00           & ทำการบ้าน               & 240                     & 2                      \\\\\n",
       "\t 2022-02-23              & 09.00 - 12.00           & เรียนหนังสือ            & 180                     & 2                      \\\\\n",
       "\t 2022-02-23              & 12.00 - 13.00           & พักผ่อน                 &  60                     & 2                      \\\\\n",
       "\t 2022-02-23              & 13.00 - 17.30           & เรียนหนังสือ            & 270                     & 2                      \\\\\n",
       "\t 2022-02-23              & 19.00 - 19.30           & รับประทานอาหาร          &  30                     & 2                      \\\\\n",
       "\t 2022-02-23              & 20.00 - 24.00           & ทำการบ้าน               & 240                     & 2                      \\\\\n",
       "\t 2022-02-24              & 09.00 - 12.00           & เรียนหนังสือ            & 180                     & 2                      \\\\\n",
       "\t 2022-02-24              & 12.00 - 13.00           & พักผ่อน                 &  60                     & 2                      \\\\\n",
       "\t 2022-02-24              & 13.00 - 16.00           & เรียนหนังสือ            & 180                     & 2                      \\\\\n",
       "\t 2022-02-24              & 19.00 - 19.30           & รับประทานอาหาร          &  30                     & 2                      \\\\\n",
       "\t 2022-02-24              & 20.00 - 24.00           & ทำการบ้าน               & 240                     & 2                      \\\\\n",
       "\t 2022-02-25              & 13.00 - 17.00           & ทำการบ้าน               & 240                     & 2                      \\\\\n",
       "\t 2022-02-25              & 19.00 - 19.30           & รับประทานอาหาร          &  30                     & 2                      \\\\\n",
       "\t 2022-02-25              & 20.00 - 24.00           & ทำการบ้าน               & 240                     & 2                      \\\\\n",
       "\t 2022-02-26              & 12.00 - 14.00           & ทำการบ้าน               & 120                     & 2                      \\\\\n",
       "\t 2022-02-26              & 14.00 - 19.30           & ไปซื้อของที่ห้างแถวบ้าน & 330                     & 2                      \\\\\n",
       "\t 2022-02-27              & 14.00 - 17.00           & ทำการบ้าน               & 180                     & 2                      \\\\\n",
       "\t 2022-02-27              & 17.20 - 19.20           & ไปซื้อของที่ห้างแถวบ้าน & 120                     & 2                      \\\\\n",
       "\t 2022-02-27              & 20.00 - 20.45           & รับประทานอาหาร          &  45                     & 2                      \\\\\n",
       "\t 2022-02-27              & 21.30 - 24.00           & ทำการบ้าน               & 150                     & 2                      \\\\\n",
       "\t 2022-02-28              & 12.00 - 16.00           & เรียนหนังสือ            & 240                     & 2                      \\\\\n",
       "\t 2022-02-28              & 16.00 - 17.30           & ประชุมงานกลุ่ม          &  90                     & 2                      \\\\\n",
       "\t 2022-02-28              & 19.00 - 19.30           & รับประทานอาหาร          &  30                     & 2                      \\\\\n",
       "\t 2022-02-28              & 20.00 - 24.00           & ทำการบ้าน               & 240                     & 2                      \\\\\n",
       "\\end{tabular}\n"
      ],
      "text/markdown": [
       "\n",
       "| date | time | activity | duration | Month |\n",
       "|---|---|---|---|---|\n",
       "| 2022-01-04       | 13.00 - 17.30    | เรียนหนังสือ     | 270              | 1                |\n",
       "| 2022-01-04       | 19.00 - 19.30    | รับประทานอาหาร   |  30              | 1                |\n",
       "| 2022-01-04       | 20.00 - 24.00    | ทำการบ้าน        | 240              | 1                |\n",
       "| 2022-01-05       | 09.00 - 12.00    | เรียนหนังสือ     | 180              | 1                |\n",
       "| 2022-01-05       | 12.00 - 13.00    | พักผ่อน          |  60              | 1                |\n",
       "| 2022-01-05       | 13.00 - 17.30    | เรียนหนังสือ     | 270              | 1                |\n",
       "| 2022-01-05       | 19.00 - 19.30    | รับประทานอาหาร   |  30              | 1                |\n",
       "| 2022-01-05       | 20.00 - 24.00    | ทำการบ้าน        | 240              | 1                |\n",
       "| 2022-01-06       | 09.00 - 12.00    | เรียนหนังสือ     | 180              | 1                |\n",
       "| 2022-01-06       | 12.00 - 13.00    | พักผ่อน          |  60              | 1                |\n",
       "| 2022-01-06       | 13.00 - 16.00    | เรียนหนังสือ     | 180              | 1                |\n",
       "| 2022-01-06       | 19.00 - 19.30    | รับประทานอาหาร   |  30              | 1                |\n",
       "| 2022-01-06       | 20.00 - 24.00    | ทำการบ้าน        | 240              | 1                |\n",
       "| 2022-01-07       | 10.00 - 17.00    | เล่นอินเทอร์เน็ต | 420              | 1                |\n",
       "| 2022-01-07       | 19.00 - 19.30    | รับประทานอาหาร   |  30              | 1                |\n",
       "| 2022-01-07       | 20.00 - 24.00    | ทำการบ้าน        | 240              | 1                |\n",
       "| 2022-01-08       | 10.00 - 17.00    | เล่นอินเทอร์เน็ต | 420              | 1                |\n",
       "| 2022-01-08       | 19.00 - 19.30    | รับประทานอาหาร   |  30              | 1                |\n",
       "| 2022-01-08       | 20.00 - 24.00    | ทำการบ้าน        | 240              | 1                |\n",
       "| 2022-01-09       | 10.00 - 16.00    | เล่นอินเทอร์เน็ต | 360              | 1                |\n",
       "| 2022-01-09       | 19.00 - 19.30    | รับประทานอาหาร   |  30              | 1                |\n",
       "| 2022-01-09       | 20.00 - 24.00    | ทำการบ้าน        | 240              | 1                |\n",
       "| 2022-01-10       | 12.00 - 16.00    | เรียนหนังสือ     | 240              | 1                |\n",
       "| 2022-01-10       | 19.00 - 19.30    | รับประทานอาหาร   |  30              | 1                |\n",
       "| 2022-01-10       | 20.00 - 24.00    | ทำการบ้าน        | 240              | 1                |\n",
       "| 2022-01-11       | 13.00 - 17.30    | เรียนหนังสือ     | 270              | 1                |\n",
       "| 2022-01-11       | 19.00 - 19.30    | รับประทานอาหาร   |  30              | 1                |\n",
       "| 2022-01-11       | 20.00 - 24.00    | ทำการบ้าน        | 240              | 1                |\n",
       "| 2022-01-12       | 09.00 - 12.00    | เรียนหนังสือ     | 180              | 1                |\n",
       "| 2022-01-12       | 12.00 - 13.00    | พักผ่อน          |  60              | 1                |\n",
       "| ... | ... | ... | ... | ... |\n",
       "| 2022-02-20              | 20.30 - 21.15           | รับประทานอาหาร          |  45                     | 2                       |\n",
       "| 2022-02-21              | 12.00 - 16.00           | เรียนหนังสือ            | 240                     | 2                       |\n",
       "| 2022-02-21              | 19.00 - 19.30           | รับประทานอาหาร          |  30                     | 2                       |\n",
       "| 2022-02-21              | 20.00 - 24.00           | ทำการบ้าน               | 240                     | 2                       |\n",
       "| 2022-02-22              | 13.00 - 17.30           | เรียนหนังสือ            | 270                     | 2                       |\n",
       "| 2022-02-22              | 19.00 - 19.30           | รับประทานอาหาร          |  30                     | 2                       |\n",
       "| 2022-02-22              | 20.00 - 24.00           | ทำการบ้าน               | 240                     | 2                       |\n",
       "| 2022-02-23              | 09.00 - 12.00           | เรียนหนังสือ            | 180                     | 2                       |\n",
       "| 2022-02-23              | 12.00 - 13.00           | พักผ่อน                 |  60                     | 2                       |\n",
       "| 2022-02-23              | 13.00 - 17.30           | เรียนหนังสือ            | 270                     | 2                       |\n",
       "| 2022-02-23              | 19.00 - 19.30           | รับประทานอาหาร          |  30                     | 2                       |\n",
       "| 2022-02-23              | 20.00 - 24.00           | ทำการบ้าน               | 240                     | 2                       |\n",
       "| 2022-02-24              | 09.00 - 12.00           | เรียนหนังสือ            | 180                     | 2                       |\n",
       "| 2022-02-24              | 12.00 - 13.00           | พักผ่อน                 |  60                     | 2                       |\n",
       "| 2022-02-24              | 13.00 - 16.00           | เรียนหนังสือ            | 180                     | 2                       |\n",
       "| 2022-02-24              | 19.00 - 19.30           | รับประทานอาหาร          |  30                     | 2                       |\n",
       "| 2022-02-24              | 20.00 - 24.00           | ทำการบ้าน               | 240                     | 2                       |\n",
       "| 2022-02-25              | 13.00 - 17.00           | ทำการบ้าน               | 240                     | 2                       |\n",
       "| 2022-02-25              | 19.00 - 19.30           | รับประทานอาหาร          |  30                     | 2                       |\n",
       "| 2022-02-25              | 20.00 - 24.00           | ทำการบ้าน               | 240                     | 2                       |\n",
       "| 2022-02-26              | 12.00 - 14.00           | ทำการบ้าน               | 120                     | 2                       |\n",
       "| 2022-02-26              | 14.00 - 19.30           | ไปซื้อของที่ห้างแถวบ้าน | 330                     | 2                       |\n",
       "| 2022-02-27              | 14.00 - 17.00           | ทำการบ้าน               | 180                     | 2                       |\n",
       "| 2022-02-27              | 17.20 - 19.20           | ไปซื้อของที่ห้างแถวบ้าน | 120                     | 2                       |\n",
       "| 2022-02-27              | 20.00 - 20.45           | รับประทานอาหาร          |  45                     | 2                       |\n",
       "| 2022-02-27              | 21.30 - 24.00           | ทำการบ้าน               | 150                     | 2                       |\n",
       "| 2022-02-28              | 12.00 - 16.00           | เรียนหนังสือ            | 240                     | 2                       |\n",
       "| 2022-02-28              | 16.00 - 17.30           | ประชุมงานกลุ่ม          |  90                     | 2                       |\n",
       "| 2022-02-28              | 19.00 - 19.30           | รับประทานอาหาร          |  30                     | 2                       |\n",
       "| 2022-02-28              | 20.00 - 24.00           | ทำการบ้าน               | 240                     | 2                       |\n",
       "\n"
      ],
      "text/plain": [
       "    date       time          activity                duration Month\n",
       "1   2022-01-04 13.00 - 17.30 เรียนหนังสือ            270      1    \n",
       "2   2022-01-04 19.00 - 19.30 รับประทานอาหาร           30      1    \n",
       "3   2022-01-04 20.00 - 24.00 ทำการบ้าน               240      1    \n",
       "4   2022-01-05 09.00 - 12.00 เรียนหนังสือ            180      1    \n",
       "5   2022-01-05 12.00 - 13.00 พักผ่อน                  60      1    \n",
       "6   2022-01-05 13.00 - 17.30 เรียนหนังสือ            270      1    \n",
       "7   2022-01-05 19.00 - 19.30 รับประทานอาหาร           30      1    \n",
       "8   2022-01-05 20.00 - 24.00 ทำการบ้าน               240      1    \n",
       "9   2022-01-06 09.00 - 12.00 เรียนหนังสือ            180      1    \n",
       "10  2022-01-06 12.00 - 13.00 พักผ่อน                  60      1    \n",
       "11  2022-01-06 13.00 - 16.00 เรียนหนังสือ            180      1    \n",
       "12  2022-01-06 19.00 - 19.30 รับประทานอาหาร           30      1    \n",
       "13  2022-01-06 20.00 - 24.00 ทำการบ้าน               240      1    \n",
       "14  2022-01-07 10.00 - 17.00 เล่นอินเทอร์เน็ต        420      1    \n",
       "15  2022-01-07 19.00 - 19.30 รับประทานอาหาร           30      1    \n",
       "16  2022-01-07 20.00 - 24.00 ทำการบ้าน               240      1    \n",
       "17  2022-01-08 10.00 - 17.00 เล่นอินเทอร์เน็ต        420      1    \n",
       "18  2022-01-08 19.00 - 19.30 รับประทานอาหาร           30      1    \n",
       "19  2022-01-08 20.00 - 24.00 ทำการบ้าน               240      1    \n",
       "20  2022-01-09 10.00 - 16.00 เล่นอินเทอร์เน็ต        360      1    \n",
       "21  2022-01-09 19.00 - 19.30 รับประทานอาหาร           30      1    \n",
       "22  2022-01-09 20.00 - 24.00 ทำการบ้าน               240      1    \n",
       "23  2022-01-10 12.00 - 16.00 เรียนหนังสือ            240      1    \n",
       "24  2022-01-10 19.00 - 19.30 รับประทานอาหาร           30      1    \n",
       "25  2022-01-10 20.00 - 24.00 ทำการบ้าน               240      1    \n",
       "26  2022-01-11 13.00 - 17.30 เรียนหนังสือ            270      1    \n",
       "27  2022-01-11 19.00 - 19.30 รับประทานอาหาร           30      1    \n",
       "28  2022-01-11 20.00 - 24.00 ทำการบ้าน               240      1    \n",
       "29  2022-01-12 09.00 - 12.00 เรียนหนังสือ            180      1    \n",
       "30  2022-01-12 12.00 - 13.00 พักผ่อน                  60      1    \n",
       "... ...        ...           ...                     ...      ...  \n",
       "177 2022-02-20 20.30 - 21.15 รับประทานอาหาร           45      2    \n",
       "178 2022-02-21 12.00 - 16.00 เรียนหนังสือ            240      2    \n",
       "179 2022-02-21 19.00 - 19.30 รับประทานอาหาร           30      2    \n",
       "180 2022-02-21 20.00 - 24.00 ทำการบ้าน               240      2    \n",
       "181 2022-02-22 13.00 - 17.30 เรียนหนังสือ            270      2    \n",
       "182 2022-02-22 19.00 - 19.30 รับประทานอาหาร           30      2    \n",
       "183 2022-02-22 20.00 - 24.00 ทำการบ้าน               240      2    \n",
       "184 2022-02-23 09.00 - 12.00 เรียนหนังสือ            180      2    \n",
       "185 2022-02-23 12.00 - 13.00 พักผ่อน                  60      2    \n",
       "186 2022-02-23 13.00 - 17.30 เรียนหนังสือ            270      2    \n",
       "187 2022-02-23 19.00 - 19.30 รับประทานอาหาร           30      2    \n",
       "188 2022-02-23 20.00 - 24.00 ทำการบ้าน               240      2    \n",
       "189 2022-02-24 09.00 - 12.00 เรียนหนังสือ            180      2    \n",
       "190 2022-02-24 12.00 - 13.00 พักผ่อน                  60      2    \n",
       "191 2022-02-24 13.00 - 16.00 เรียนหนังสือ            180      2    \n",
       "192 2022-02-24 19.00 - 19.30 รับประทานอาหาร           30      2    \n",
       "193 2022-02-24 20.00 - 24.00 ทำการบ้าน               240      2    \n",
       "194 2022-02-25 13.00 - 17.00 ทำการบ้าน               240      2    \n",
       "195 2022-02-25 19.00 - 19.30 รับประทานอาหาร           30      2    \n",
       "196 2022-02-25 20.00 - 24.00 ทำการบ้าน               240      2    \n",
       "197 2022-02-26 12.00 - 14.00 ทำการบ้าน               120      2    \n",
       "198 2022-02-26 14.00 - 19.30 ไปซื้อของที่ห้างแถวบ้าน 330      2    \n",
       "199 2022-02-27 14.00 - 17.00 ทำการบ้าน               180      2    \n",
       "200 2022-02-27 17.20 - 19.20 ไปซื้อของที่ห้างแถวบ้าน 120      2    \n",
       "201 2022-02-27 20.00 - 20.45 รับประทานอาหาร           45      2    \n",
       "202 2022-02-27 21.30 - 24.00 ทำการบ้าน               150      2    \n",
       "203 2022-02-28 12.00 - 16.00 เรียนหนังสือ            240      2    \n",
       "204 2022-02-28 16.00 - 17.30 ประชุมงานกลุ่ม           90      2    \n",
       "205 2022-02-28 19.00 - 19.30 รับประทานอาหาร           30      2    \n",
       "206 2022-02-28 20.00 - 24.00 ทำการบ้าน               240      2    "
      ]
     },
     "metadata": {},
     "output_type": "display_data"
    }
   ],
   "source": [
    "df_spend <- read_excel('Time-Spending_Records.xlsx',sheet=\"Sheet3\")\n",
    "attach(df_spend)\n",
    "df_spend"
   ]
  },
  {
   "cell_type": "markdown",
   "metadata": {},
   "source": [
    "## Anova2"
   ]
  },
  {
   "cell_type": "markdown",
   "metadata": {},
   "source": [
    "กำหนดให้มี 2 ปัจจัยที่ส่งผลต่อระยะเวลาทำกิจวัตรประจำวันต่างๆ ได้แก่ เดือนและชนิดของกิจวัตรประจำวัน โดยนำมาใช้ในการพิสูจน์ว่าเดือนและชนิดของกิจวัตรประจำวันมีผลต่อระยะเวลาหรือไม่ \n",
    "\n",
    "เดือน\n",
    "- Null Hypothesis: เดือนไม่มีผลต่อระยะเวลาทำกิจวัตรประจำวัน\n",
    "- Alternative Hypothesis: เดือนมีผลต่อระยะเวลาทำกิจวัตรประจำวัน\n",
    "\n",
    "กิจวัตรประจำวัน\n",
    "- Null Hypothesis: ชนิดของกิจวัตรประจำวันไม่มีผลต่อระยะเวลา\n",
    "- Alternative Hypothesis: ชนิดของกิจวัตรประจำวันมีผลต่อระยะเวลา\n"
   ]
  },
  {
   "cell_type": "code",
   "execution_count": 16,
   "metadata": {},
   "outputs": [
    {
     "data": {
      "text/plain": [
       "                Df  Sum Sq Mean Sq F value Pr(>F)    \n",
       "activityFactor  23 2338335  101667  28.876 <2e-16 ***\n",
       "MonthFactor      1    1350    1350   0.384  0.536    \n",
       "Residuals      181  637257    3521                   \n",
       "---\n",
       "Signif. codes:  0 '***' 0.001 '**' 0.01 '*' 0.05 '.' 0.1 ' ' 1"
      ]
     },
     "metadata": {},
     "output_type": "display_data"
    }
   ],
   "source": [
    "activityFactor <- factor(df_spend$activity)\n",
    "MonthFactor <- factor(df_spend$Month)\n",
    "anovaResult <- aov(df_spend$duration ~ activityFactor + MonthFactor, data=df_spend)\n",
    "summary(anovaResult)"
   ]
  },
  {
   "cell_type": "code",
   "execution_count": 17,
   "metadata": {},
   "outputs": [
    {
     "data": {
      "text/html": [
       "1.5891385358639"
      ],
      "text/latex": [
       "1.5891385358639"
      ],
      "text/markdown": [
       "1.5891385358639"
      ],
      "text/plain": [
       "[1] 1.589139"
      ]
     },
     "metadata": {},
     "output_type": "display_data"
    }
   ],
   "source": [
    "qf(0.05, 23, 181, lower.tail=F)   # activity"
   ]
  },
  {
   "cell_type": "code",
   "execution_count": 18,
   "metadata": {},
   "outputs": [
    {
     "data": {
      "text/html": [
       "3.89334871302228"
      ],
      "text/latex": [
       "3.89334871302228"
      ],
      "text/markdown": [
       "3.89334871302228"
      ],
      "text/plain": [
       "[1] 3.893349"
      ]
     },
     "metadata": {},
     "output_type": "display_data"
    }
   ],
   "source": [
    "qf(0.05, 1, 181, lower.tail=F)   # Month"
   ]
  },
  {
   "cell_type": "code",
   "execution_count": 19,
   "metadata": {},
   "outputs": [
    {
     "data": {
      "image/png": "[encoded data removed]",
      "text/plain": [
       "Plot with title \"95% family-wise confidence level\n",
       "\""
      ]
     },
     "metadata": {},
     "output_type": "display_data"
    }
   ],
   "source": [
    "tk1 <- TukeyHSD(anovaResult, 'activityFactor', conf.level = 0.95)\n",
    "plot(tk1)"
   ]
  },
  {
   "cell_type": "code",
   "execution_count": 20,
   "metadata": {},
   "outputs": [
    {
     "data": {
      "image/png": "[encoded data removed]",
      "text/plain": [
       "Plot with title \"95% family-wise confidence level\n",
       "\""
      ]
     },
     "metadata": {},
     "output_type": "display_data"
    }
   ],
   "source": [
    "tk2 <- TukeyHSD(anovaResult, 'MonthFactor', conf.level = 0.95)\n",
    "plot(tk2)"
   ]
  },
  {
   "cell_type": "code",
   "execution_count": 21,
   "metadata": {},
   "outputs": [
    {
     "data": {
      "image/png": "[encoded data removed]",
      "text/plain": [
       "plot without title"
      ]
     },
     "metadata": {},
     "output_type": "display_data"
    }
   ],
   "source": [
    "boxplot(df_spend$duration~df_spend$activity, horizontal=T,xlab=\"Duration\", ylab=\"Activity\")"
   ]
  },
  {
   "cell_type": "code",
   "execution_count": 22,
   "metadata": {},
   "outputs": [
    {
     "data": {
      "image/png": "[encoded data removed]",
      "text/plain": [
       "plot without title"
      ]
     },
     "metadata": {},
     "output_type": "display_data"
    }
   ],
   "source": [
    "boxplot(df_spend$duration~df_spend$Month, horizontal=T, xlab=\"Duration\", ylab=\"Month\")"
   ]
  }
 ],
 "metadata": {
  "kernelspec": {
   "display_name": "R",
   "language": "R",
   "name": "ir"
  },
  "language_info": {
   "codemirror_mode": "r",
   "file_extension": ".r",
   "mimetype": "text/x-r-source",
   "name": "R",
   "pygments_lexer": "r",
   "version": "3.6.1"
  },
  "orig_nbformat": 4
 },
 "nbformat": 4,
 "nbformat_minor": 2
}
