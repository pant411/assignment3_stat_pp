{
 "cells": [
  {
   "cell_type": "code",
   "execution_count": 40,
   "metadata": {},
   "outputs": [],
   "source": [
    "import os\n",
    "os.chdir(os.getcwd())"
   ]
  },
  {
   "cell_type": "markdown",
   "metadata": {},
   "source": [
    "## Import Module"
   ]
  },
  {
   "cell_type": "code",
   "execution_count": 41,
   "metadata": {},
   "outputs": [],
   "source": [
    "import pandas as pd\n",
    "from scipy.stats import chi2_contingency\n",
    "from scipy.stats import chi2\n",
    "import numpy as np"
   ]
  },
  {
   "cell_type": "markdown",
   "metadata": {},
   "source": [
    "## Import Data"
   ]
  },
  {
   "cell_type": "code",
   "execution_count": 42,
   "metadata": {},
   "outputs": [
    {
     "data": {
      "text/html": [
       "<div>\n",
       "<style scoped>\n",
       "    .dataframe tbody tr th:only-of-type {\n",
       "        vertical-align: middle;\n",
       "    }\n",
       "\n",
       "    .dataframe tbody tr th {\n",
       "        vertical-align: top;\n",
       "    }\n",
       "\n",
       "    .dataframe thead th {\n",
       "        text-align: right;\n",
       "    }\n",
       "</style>\n",
       "<table border=\"1\" class=\"dataframe\">\n",
       "  <thead>\n",
       "    <tr style=\"text-align: right;\">\n",
       "      <th></th>\n",
       "      <th>date</th>\n",
       "      <th>time</th>\n",
       "      <th>activity</th>\n",
       "      <th>duration (minute)</th>\n",
       "    </tr>\n",
       "  </thead>\n",
       "  <tbody>\n",
       "    <tr>\n",
       "      <th>0</th>\n",
       "      <td>2022-01-04</td>\n",
       "      <td>13.00 - 17.30</td>\n",
       "      <td>เรียนหนังสือ</td>\n",
       "      <td>270</td>\n",
       "    </tr>\n",
       "    <tr>\n",
       "      <th>1</th>\n",
       "      <td>2022-01-04</td>\n",
       "      <td>19.00 - 19.30</td>\n",
       "      <td>รับประทานอาหาร</td>\n",
       "      <td>30</td>\n",
       "    </tr>\n",
       "    <tr>\n",
       "      <th>2</th>\n",
       "      <td>2022-01-04</td>\n",
       "      <td>20.00 - 24.00</td>\n",
       "      <td>ทำการบ้าน</td>\n",
       "      <td>240</td>\n",
       "    </tr>\n",
       "    <tr>\n",
       "      <th>3</th>\n",
       "      <td>2022-01-05</td>\n",
       "      <td>09.00 - 12.00</td>\n",
       "      <td>เรียนหนังสือ</td>\n",
       "      <td>180</td>\n",
       "    </tr>\n",
       "    <tr>\n",
       "      <th>4</th>\n",
       "      <td>2022-01-05</td>\n",
       "      <td>12.00 - 13.00</td>\n",
       "      <td>พักผ่อน</td>\n",
       "      <td>60</td>\n",
       "    </tr>\n",
       "  </tbody>\n",
       "</table>\n",
       "</div>"
      ],
      "text/plain": [
       "        date           time        activity  duration (minute)\n",
       "0 2022-01-04  13.00 - 17.30    เรียนหนังสือ                270\n",
       "1 2022-01-04  19.00 - 19.30  รับประทานอาหาร                 30\n",
       "2 2022-01-04  20.00 - 24.00       ทำการบ้าน                240\n",
       "3 2022-01-05  09.00 - 12.00    เรียนหนังสือ                180\n",
       "4 2022-01-05  12.00 - 13.00         พักผ่อน                 60"
      ]
     },
     "execution_count": 42,
     "metadata": {},
     "output_type": "execute_result"
    }
   ],
   "source": [
    "df_time = pd.read_excel('Time-Spending_Records.xlsx', sheet_name=\"Sheet1\")  # ตัวอย่าง\n",
    "df_time.head()\n"
   ]
  },
  {
   "cell_type": "code",
   "execution_count": 43,
   "metadata": {},
   "outputs": [
    {
     "name": "stderr",
     "output_type": "stream",
     "text": [
      "/var/folders/37/ffyx67ps24v157rdzs_y3pkc0000gn/T/ipykernel_6574/969399947.py:2: SettingWithCopyWarning: \n",
      "A value is trying to be set on a copy of a slice from a DataFrame.\n",
      "Try using .loc[row_indexer,col_indexer] = value instead\n",
      "\n",
      "See the caveats in the documentation: https://pandas.pydata.org/pandas-docs/stable/user_guide/indexing.html#returning-a-view-versus-a-copy\n",
      "  df_time2['duration (minute)'] = df_time2['duration (minute)'].fillna(df_time2['duration (minute)'].mode()[0]) #Fix missing\n"
     ]
    }
   ],
   "source": [
    "df_time2 = df_time[['date', 'activity', 'duration (minute)']]\n",
    "df_time2['duration (minute)'] = df_time2['duration (minute)'].fillna(df_time2['duration (minute)'].mode()[0]) #Fix missing"
   ]
  },
  {
   "cell_type": "code",
   "execution_count": 44,
   "metadata": {},
   "outputs": [
    {
     "data": {
      "text/plain": [
       "date        activity      \n",
       "2022-01-01  ทำการบ้าน         1\n",
       "            รับประทานอาหาร    1\n",
       "            เรียนหนังสือ      1\n",
       "2022-01-04  ทำการบ้าน         1\n",
       "            รับประทานอาหาร    1\n",
       "                             ..\n",
       "2022-03-02  เรียนหนังสือ      2\n",
       "2022-03-03  ทำการบ้าน         1\n",
       "            พักผ่อน           1\n",
       "            รับประทานอาหาร    1\n",
       "            เรียนหนังสือ      2\n",
       "Name: duration (minute), Length: 191, dtype: int64"
      ]
     },
     "execution_count": 44,
     "metadata": {},
     "output_type": "execute_result"
    }
   ],
   "source": [
    "dfGroup = df_time2.groupby(['date', 'activity'])['duration (minute)'].count()\n",
    "dfGroup\n"
   ]
  },
  {
   "cell_type": "code",
   "execution_count": 45,
   "metadata": {},
   "outputs": [],
   "source": [
    "#Pivot table\n",
    "dfPivot_time = df_time2.pivot_table(\n",
    "    index='date', columns='activity', values='duration (minute)', aggfunc='sum')\n",
    "dfPivot_time = dfPivot_time.fillna(0)\n"
   ]
  },
  {
   "cell_type": "markdown",
   "metadata": {},
   "source": [
    "## Homogeneity Test"
   ]
  },
  {
   "cell_type": "code",
   "execution_count": 46,
   "metadata": {},
   "outputs": [
    {
     "name": "stdout",
     "output_type": "stream",
     "text": [
      "Chi-Squared test-statistic: 301903.5636\n",
      "P-value: 0.0000\n"
     ]
    }
   ],
   "source": [
    "\n",
    "#Chi-Squared Test\n",
    "chi2_test, p, dof, _ = chi2_contingency(dfPivot_time)\n",
    "print(f'Chi-Squared test-statistic: {chi2_test:.4f}')\n",
    "print(f'P-value: {p:.4f}')"
   ]
  },
  {
   "cell_type": "code",
   "execution_count": 47,
   "metadata": {},
   "outputs": [
    {
     "data": {
      "text/plain": [
       "1334"
      ]
     },
     "execution_count": 47,
     "metadata": {},
     "output_type": "execute_result"
    }
   ],
   "source": [
    "dof\n"
   ]
  },
  {
   "cell_type": "code",
   "execution_count": 50,
   "metadata": {},
   "outputs": [
    {
     "data": {
      "text/plain": [
       "1420.08285173559"
      ]
     },
     "execution_count": 50,
     "metadata": {},
     "output_type": "execute_result"
    }
   ],
   "source": [
    "alpha = 0.05\n",
    "chi2.ppf(1-alpha, dof)"
   ]
  },
  {
   "cell_type": "markdown",
   "metadata": {},
   "source": [
    "เนื่องจาก test-statistic > X 0.05,1334 หรือ P-value < alpha"
   ]
  },
  {
   "cell_type": "markdown",
   "metadata": {},
   "source": [
    "ดังนั้นสัดส่วนการใช้เวลาในการทำกิจวัตรต่างๆในชีวิตประจำวันไม่เท่ากัน"
   ]
  }
 ],
 "metadata": {
  "interpreter": {
   "hash": "a55ab719c9bfc05de0d3a1d1915f1d68fd6eba03203b10440bfba1b28ddfa129"
  },
  "kernelspec": {
   "display_name": "Python 3.9.7 ('base')",
   "language": "python",
   "name": "python3"
  },
  "language_info": {
   "codemirror_mode": {
    "name": "ipython",
    "version": 3
   },
   "file_extension": ".py",
   "mimetype": "text/x-python",
   "name": "python",
   "nbconvert_exporter": "python",
   "pygments_lexer": "ipython3",
   "version": "3.9.7"
  },
  "orig_nbformat": 4
 },
 "nbformat": 4,
 "nbformat_minor": 2
}
